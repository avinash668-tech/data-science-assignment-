{
 "cells": [
  {
   "cell_type": "code",
   "execution_count": 1,
   "metadata": {},
   "outputs": [
    {
     "name": "stdout",
     "output_type": "stream",
     "text": [
      " Twinkle, Twinkle, little star \n",
      "\t How I wonder what you are \n",
      "\t\t  Up above the world so high \n",
      "\t\t  Like a diamond in the sky \n",
      "  Twinkle, Twinkle, little star \n",
      "\t How I wonder what you are\n"
     ]
    }
   ],
   "source": [
    "#q1: python program to write twinkle twinkle little star poem\n",
    "twinkle =\" Twinkle, Twinkle, little star\"\n",
    "how = \"How I wonder what you are\"\n",
    "up = \" Up above the world so high\"\n",
    "like =\" Like a diamond in the sky\"\n",
    "print (twinkle,\"\\n\\t\",how,\"\\n\\t\\t\",up,\"\\n\\t\\t\",like,\"\\n\",twinkle,\"\\n\\t\",how)"
   ]
  },
  {
   "cell_type": "code",
   "execution_count": 2,
   "metadata": {},
   "outputs": [
    {
     "name": "stdout",
     "output_type": "stream",
     "text": [
      "3.7.4 (default, Aug  9 2019, 18:34:13) [MSC v.1915 64 bit (AMD64)]\n"
     ]
    }
   ],
   "source": [
    "#q2: python version \n",
    "import sys\n",
    "print (sys.version)"
   ]
  },
  {
   "cell_type": "code",
   "execution_count": 3,
   "metadata": {},
   "outputs": [
    {
     "name": "stdout",
     "output_type": "stream",
     "text": [
      "Current date and time : \n",
      "02-01 14:57:37\n"
     ]
    }
   ],
   "source": [
    "#q3: display current date and time\n",
    "import datetime\n",
    "now = datetime.datetime.now()\n",
    "print (\"Current date and time : \")\n",
    "print (now.strftime(\"%d-%m %H:%M:%S\"))"
   ]
  },
  {
   "cell_type": "code",
   "execution_count": 4,
   "metadata": {},
   "outputs": [
    {
     "name": "stdout",
     "output_type": "stream",
     "text": [
      "Input the radius of the circle : 3\n",
      "The area of the circle with radius 3.0 is: 28.274333882308138\n"
     ]
    }
   ],
   "source": [
    "#q4: input radius of circle and compute the area \n",
    "from math import pi\n",
    "radius = float(input (\"Input the radius of the circle : \"))\n",
    "print (\"The area of the circle with radius \" + str(radius) + \" is: \" + str(pi * radius**2))"
   ]
  },
  {
   "cell_type": "code",
   "execution_count": 5,
   "metadata": {},
   "outputs": [
    {
     "name": "stdout",
     "output_type": "stream",
     "text": [
      "Input your First Name : Avinash\n",
      "Input your Last Name : Mandhan\n",
      "Mandhan Avinash\n"
     ]
    }
   ],
   "source": [
    "#q5: first name and last name \n",
    "firstname = input(\"Input your First Name : \")\n",
    "lastname = input(\"Input your Last Name : \")\n",
    "print (lastname + \" \" + firstname)"
   ]
  },
  {
   "cell_type": "code",
   "execution_count": null,
   "metadata": {},
   "outputs": [],
   "source": [
    "#q6: two inputs and add them\n",
    "num1 = input (\"enter first number\")\n",
    "num2 = input (\"enter secont number\")\n",
    "sum = int(num1) + int(num2)\n",
    "print (sum)"
   ]
  },
  {
   "cell_type": "code",
   "execution_count": null,
   "metadata": {},
   "outputs": [],
   "source": []
  }
 ],
 "metadata": {
  "kernelspec": {
   "display_name": "Python 3",
   "language": "python",
   "name": "python3"
  },
  "language_info": {
   "codemirror_mode": {
    "name": "ipython",
    "version": 3
   },
   "file_extension": ".py",
   "mimetype": "text/x-python",
   "name": "python",
   "nbconvert_exporter": "python",
   "pygments_lexer": "ipython3",
   "version": "3.7.4"
  }
 },
 "nbformat": 4,
 "nbformat_minor": 2
}
